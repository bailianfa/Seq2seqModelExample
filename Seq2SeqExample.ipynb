{
 "cells": [
  {
   "cell_type": "code",
   "execution_count": 1,
   "metadata": {},
   "outputs": [],
   "source": [
    "%matplotlib inline\n",
    "\n",
    "import matplotlib\n",
    "import tensorflow as tf\n",
    "import numpy as np\n",
    "import helpers\n",
    "from Seq2seqModel import Seq2SeqModel\n",
    "import matplotlib.pyplot as plt"
   ]
  },
  {
   "cell_type": "code",
   "execution_count": 2,
   "metadata": {},
   "outputs": [],
   "source": [
    "seq2seq = Seq2SeqModel()\n"
   ]
  },
  {
   "cell_type": "code",
   "execution_count": 3,
   "metadata": {},
   "outputs": [
    {
     "name": "stdout",
     "output_type": "stream",
     "text": [
      "batch_encode: \n",
      "[[9 9 9 9 9]\n",
      " [8 8 8 8 8]\n",
      " [7 7 7 7 7]]\n",
      "decoder inputs: \n",
      "[[1 1 1 1 1]\n",
      " [0 0 0 0 0]\n",
      " [0 0 0 0 0]\n",
      " [0 0 0 0 0]]\n",
      "decoder input size: \n",
      "3\n",
      "decoder inpput full length: \n",
      "[4 4 4 4 4]\n",
      "Predict results: \n",
      "[array([[0, 0, 0, 0, 0],\n",
      "       [9, 9, 9, 9, 9],\n",
      "       [9, 9, 9, 9, 9],\n",
      "       [9, 9, 9, 9, 9]])]\n"
     ]
    }
   ],
   "source": [
    "with tf.Session() as sess:\n",
    "    sess.run(tf.global_variables_initializer())\n",
    "    batch_ = [[9,8,7]] *5\n",
    "    \n",
    "    batch_,batch_length_ = helpers.batch(batch_)\n",
    "    print(\"batch_encode: \\n\" + str(batch_))\n",
    "    \n",
    "    din_, dlen_ = helpers.batch(np.ones(shape=(5,1), dtype=np.int32), max_sequence_length=4)\n",
    "    \n",
    "    print('decoder inputs: \\n' + str(din_))\n",
    "    print('decoder input size: \\n' + str(batch_.shape[0]))\n",
    "    out_length = np.asarray([din_.shape[0]]*din_.shape[1])\n",
    "    print('decoder inpput full length: \\n' + str(out_length))\n",
    "    print('Predict results: \\n' + str(seq2seq.predict(sess, batch_, din_,out_length)))\n",
    "    \n",
    "    \n",
    "    "
   ]
  },
  {
   "cell_type": "code",
   "execution_count": 4,
   "metadata": {},
   "outputs": [
    {
     "name": "stdout",
     "output_type": "stream",
     "text": [
      "head of the batch\n",
      "[3, 9, 3, 3, 2, 2, 7, 3]\n",
      "[3, 8, 3, 2, 4, 7, 3, 8, 4, 2, 8, 4]\n",
      "[8, 9, 9, 2, 2, 6, 7, 7, 6, 8, 7, 7]\n",
      "[3, 9, 5, 8, 4, 3, 6]\n",
      "[6, 3, 4, 4, 4, 2, 4, 3, 2, 4, 2]\n",
      "[4, 4, 8, 9, 3, 3, 2, 9, 7, 8, 4, 4]\n",
      "[4, 8, 4, 6, 2, 6, 8, 9]\n",
      "[9, 8, 5, 2, 2, 9, 9, 6, 7, 4]\n",
      "[8, 4, 6, 2, 9, 2, 2, 5, 6, 7, 9]\n",
      "[5, 7, 4, 8, 6, 3, 3, 9]\n"
     ]
    }
   ],
   "source": [
    "batch_size = 100\n",
    "\n",
    "batches = helpers.random_sequences(length_from=3, length_to=12, vocab_lower=2, vocab_upper=10, batch_size=batch_size)\n",
    "print('head of the batch')\n",
    "for seq in next(batches)[:10]:\n",
    "    print(seq)\n"
   ]
  },
  {
   "cell_type": "code",
   "execution_count": 5,
   "metadata": {},
   "outputs": [],
   "source": [
    "EOS = 1\n",
    "\n",
    "def next_feed():\n",
    "    batch = next(batches)\n",
    "    encoder_inputs_, _ = helpers.batch(batch)\n",
    "    decoder_targets_, _ = helpers.batch(\n",
    "            [(sequence)+[EOS] for sequence in batch]\n",
    "        )\n",
    "    \n",
    "    decoder_inputs_, _ = helpers.batch(\n",
    "            [[EOS] + (sequence) for sequence in batch]\n",
    "        )\n",
    "    \n",
    "    decoder_full_length = np.asarray([decoder_inputs_.shape[0]] * decoder_inputs_.shape[1])\n",
    "    \n",
    "    return encoder_inputs_, decoder_inputs_,decoder_targets_, decoder_full_length"
   ]
  },
  {
   "cell_type": "code",
   "execution_count": 6,
   "metadata": {},
   "outputs": [],
   "source": [
    "loss_track = []\n",
    "\n",
    "max_batches = 3001\n",
    "batches_in_epoch = 1000\n",
    "\n"
   ]
  },
  {
   "cell_type": "code",
   "execution_count": 7,
   "metadata": {},
   "outputs": [
    {
     "name": "stdout",
     "output_type": "stream",
     "text": [
      "batch 0\n",
      "     minibatch loss: 2.54400897026062\n",
      "     sample 1:\n",
      "         input    > [7 8 7 8 3 4 6 5 9 9 0 0]\n",
      "         predicted> [3 3 0 3 0 3 7 3 3 3 3 4 0]\n",
      "     sample 2:\n",
      "         input    > [8 5 4 5 0 0 0 0 0 0 0 0]\n",
      "         predicted> [5 0 0 0 8 0 0 0 0 0 0 0 0]\n",
      "     sample 3:\n",
      "         input    > [6 2 8 7 9 0 0 0 0 0 0 0]\n",
      "         predicted> [5 3 0 0 0 0 0 0 0 0 0 0 0]\n",
      "\n",
      "batch 1000\n",
      "     minibatch loss: 0.0724739357829094\n",
      "     sample 1:\n",
      "         input    > [4 3 5 4 7 8 7 8 0 0 0 0]\n",
      "         predicted> [4 3 5 4 7 8 7 8 1 0 0 0 0]\n",
      "     sample 2:\n",
      "         input    > [4 8 7 3 8 3 5 0 0 0 0 0]\n",
      "         predicted> [4 8 7 3 8 3 5 1 0 0 0 0 0]\n",
      "     sample 3:\n",
      "         input    > [7 3 5 9 9 0 0 0 0 0 0 0]\n",
      "         predicted> [7 3 5 9 9 1 0 0 0 0 0 0 0]\n",
      "\n",
      "batch 2000\n",
      "     minibatch loss: 0.043062686920166016\n",
      "     sample 1:\n",
      "         input    > [9 3 5 2 9 4 6 6 0 0 0 0]\n",
      "         predicted> [9 3 5 2 9 4 6 6 1 0 0 0 0]\n",
      "     sample 2:\n",
      "         input    > [5 7 6 9 8 6 0 0 0 0 0 0]\n",
      "         predicted> [5 7 6 9 8 6 1 0 0 0 0 0 0]\n",
      "     sample 3:\n",
      "         input    > [3 6 8 3 4 4 0 0 0 0 0 0]\n",
      "         predicted> [3 6 8 3 4 4 1 0 0 0 0 0 0]\n",
      "\n",
      "batch 3000\n",
      "     minibatch loss: 0.015274343080818653\n",
      "     sample 1:\n",
      "         input    > [3 4 5 8 5 9 3 2 7 8 0 0]\n",
      "         predicted> [3 4 5 8 5 9 3 2 7 8 1 0 0]\n",
      "     sample 2:\n",
      "         input    > [4 2 5 6 0 0 0 0 0 0 0 0]\n",
      "         predicted> [4 2 5 6 1 0 0 0 0 0 0 0 0]\n",
      "     sample 3:\n",
      "         input    > [3 8 5 2 5 3 5 8 9 2 5 0]\n",
      "         predicted> [3 8 5 2 5 3 5 8 9 2 5 1 0]\n",
      "\n"
     ]
    }
   ],
   "source": [
    "with tf.Session() as sess:\n",
    "    sess.run(tf.global_variables_initializer())\n",
    "    for batch in range(max_batches):\n",
    "        encoder_inputs, decoder_inputs, decoder_targets, decoder_full_length = next_feed()\n",
    "        \n",
    "        train_op, loss, summary_op = seq2seq.update(sess, encoder_inputs, decoder_inputs, \n",
    "                                                    decoder_targets, decoder_full_length)\n",
    "        loss_track.append(loss)\n",
    "        \n",
    "        if batch == 0 or batch % batches_in_epoch == 0:\n",
    "            print('batch {}'.format(batch))\n",
    "            print('     minibatch loss: {}'.format(loss))\n",
    "            predict_ = seq2seq.predict(sess, encoder_inputs, decoder_inputs, decoder_full_length)\n",
    "        \n",
    "            for i, (inp, pred) in enumerate(zip(np.array(encoder_inputs).T, np.array(predict_).T)):\n",
    "                print('     sample {}:'.format(i +1))\n",
    "                print('         input    > {}'.format(inp))\n",
    "                print('         predicted> {}'.format(np.array(pred).T[0]))\n",
    "                if i >= 2:\n",
    "                    break;\n",
    "            print()\n"
   ]
  },
  {
   "cell_type": "code",
   "execution_count": 8,
   "metadata": {},
   "outputs": [
    {
     "data": {
      "text/plain": [
       "[<matplotlib.lines.Line2D at 0x7f71e40ca780>]"
      ]
     },
     "execution_count": 8,
     "metadata": {},
     "output_type": "execute_result"
    },
    {
     "data": {
      "image/png": "[encoded data removed]",
      "text/plain": [
       "<matplotlib.figure.Figure at 0x7f71e70ebda0>"
      ]
     },
     "metadata": {},
     "output_type": "display_data"
    }
   ],
   "source": [
    "plt.plot(loss_track)"
   ]
  },
  {
   "cell_type": "code",
   "execution_count": null,
   "metadata": {},
   "outputs": [],
   "source": []
  },
  {
   "cell_type": "code",
   "execution_count": null,
   "metadata": {},
   "outputs": [],
   "source": []
  }
 ],
 "metadata": {
  "kernelspec": {
   "display_name": "Python 3",
   "language": "python",
   "name": "python3"
  },
  "language_info": {
   "codemirror_mode": {
    "name": "ipython",
    "version": 3
   },
   "file_extension": ".py",
   "mimetype": "text/x-python",
   "name": "python",
   "nbconvert_exporter": "python",
   "pygments_lexer": "ipython3",
   "version": "3.5.2"
  }
 },
 "nbformat": 4,
 "nbformat_minor": 2
}
